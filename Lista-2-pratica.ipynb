{
 "cells": [
  {
   "cell_type": "code",
   "execution_count": 2,
   "metadata": {},
   "outputs": [
    {
     "name": "stdout",
     "output_type": "stream",
     "text": [
      "Hello world\n"
     ]
    }
   ],
   "source": [
    "print(\"Hello world\")"
   ]
  },
  {
   "cell_type": "markdown",
   "metadata": {},
   "source": [
    "O objetivo da Questão é verificar se o conjunto é um espaço vetorial sobre  C  através de inspeção de exemplos e checagem de situações de quebra de axioma.\n",
    "-Implemente as funções de soma e produto -> Feitas\n",
    "-Implemente as funções de verificação de fechamento -> Feitas\n",
    "-Proponha um vetor nulo do espaço vetorial -> Feito\n",
    "-Proponha um vetor inverso -> Feito\n",
    "-Implemente as funções de checagem de axiomas de soma\n",
    "-Implemente as funções de checagem de axiomas de produto"
   ]
  },
  {
   "cell_type": "code",
   "execution_count": 3,
   "metadata": {},
   "outputs": [],
   "source": [
    "import numpy as np\n",
    "\n",
    "# Definição de vetores\n",
    "v = []\n",
    "v.append(np.array([1, 1j, 1], dtype='complex128'))\n",
    "v.append(np.array([4, 3, 2], dtype='complex128'))\n",
    "v.append(np.array([2+3j, complex(np.sqrt(3), np.pi), 3], dtype='complex128'))\n",
    "v.append(np.array([complex(np.cos(np.pi/2), np.sin(np.pi/2)), 1, complex(np.exp(-2), 0)], dtype='complex128'))\n",
    "\n",
    "beta = []\n",
    "beta.append(3+4j)\n",
    "beta.append(np.exp(-np.pi/2) + 0j)\n",
    "beta.append(-12345+28413j)"
   ]
  },
  {
   "cell_type": "code",
   "execution_count": 5,
   "metadata": {},
   "outputs": [
    {
     "name": "stdout",
     "output_type": "stream",
     "text": [
      "[1.+0.j 0.+1.j 1.+0.j]\n",
      "[4.+0.j 3.+0.j 2.+0.j]\n",
      "[5.+0.j 3.+1.j 3.+0.j]\n"
     ]
    },
    {
     "data": {
      "text/plain": [
       "array([5.+0.j, 3.+1.j, 3.+0.j])"
      ]
     },
     "execution_count": 5,
     "metadata": {},
     "output_type": "execute_result"
    }
   ],
   "source": [
    "#Função feita\n",
    "# A Função deve receber como parâmetro dois arrays do tipo complexo de numpy\n",
    "def soma(u, v):\n",
    "    w = u + v\n",
    "    \n",
    "    return w"
   ]
  },
  {
   "cell_type": "code",
   "execution_count": 8,
   "metadata": {},
   "outputs": [
    {
     "name": "stdout",
     "output_type": "stream",
     "text": [
      "(3+4j)\n",
      "[1.+0.j 0.+1.j 1.+0.j]\n",
      "mod_beta = 5.0\n",
      "[5.+0.j 0.+5.j 5.+0.j]\n"
     ]
    },
    {
     "data": {
      "text/plain": [
       "array([5.+0.j, 0.+5.j, 5.+0.j])"
      ]
     },
     "execution_count": 8,
     "metadata": {},
     "output_type": "execute_result"
    }
   ],
   "source": [
    "def produto(beta, u):\n",
    "  mod_beta = np.abs(beta)\n",
    "  #print(f\"mod_beta = {mod_beta}\")\n",
    "\n",
    "  return mod_beta * u"
   ]
  },
  {
   "cell_type": "code",
   "execution_count": 9,
   "metadata": {},
   "outputs": [
    {
     "name": "stdout",
     "output_type": "stream",
     "text": [
      "Testando fechamento da soma:\n",
      "[5.+0.j 3.+1.j 3.+0.j]\n",
      "(np.False_, array([5.+0.j, 3.+1.j, 3.+0.j]))  =>  [1.+0.j 0.+1.j 1.+0.j]  ,  [4.+0.j 3.+0.j 2.+0.j]\n",
      "[3.        +3.j         1.73205081+4.14159265j 4.        +0.j        ]\n",
      "(np.False_, array([3.        +3.j        , 1.73205081+4.14159265j,\n",
      "       4.        +0.j        ]))  =>  [1.+0.j 0.+1.j 1.+0.j]  ,  [2.        +3.j         1.73205081+3.14159265j 3.        +0.j        ]\n",
      "[1.        +1.j 1.        +1.j 1.13533528+0.j]\n",
      "(np.False_, array([1.        +1.j, 1.        +1.j, 1.13533528+0.j]))  =>  [1.+0.j 0.+1.j 1.+0.j]  ,  [6.12323400e-17+1.j 1.00000000e+00+0.j 1.35335283e-01+0.j]\n",
      "[6.        +3.j         4.73205081+3.14159265j 5.        +0.j        ]\n",
      "(np.False_, array([6.        +3.j        , 4.73205081+3.14159265j,\n",
      "       5.        +0.j        ]))  =>  [4.+0.j 3.+0.j 2.+0.j]  ,  [2.        +3.j         1.73205081+3.14159265j 3.        +0.j        ]\n",
      "[4.        +1.j 4.        +0.j 2.13533528+0.j]\n",
      "(np.False_, array([4.        +1.j, 4.        +0.j, 2.13533528+0.j]))  =>  [4.+0.j 3.+0.j 2.+0.j]  ,  [6.12323400e-17+1.j 1.00000000e+00+0.j 1.35335283e-01+0.j]\n",
      "[2.        +4.j         2.73205081+3.14159265j 3.13533528+0.j        ]\n",
      "(np.False_, array([2.        +4.j        , 2.73205081+3.14159265j,\n",
      "       3.13533528+0.j        ]))  =>  [2.        +3.j         1.73205081+3.14159265j 3.        +0.j        ]  ,  [6.12323400e-17+1.j 1.00000000e+00+0.j 1.35335283e-01+0.j]\n",
      "--------------------------------------\n",
      "Testando fechamento do produto escalar:\n",
      "mod_beta = 5.0\n",
      "[5.+0.j 0.+5.j 5.+0.j]\n",
      "(np.False_, array([5.+0.j, 0.+5.j, 5.+0.j]))  =>  (3+4j)  ,  [1.+0.j 0.+1.j 1.+0.j]\n",
      "mod_beta = 5.0\n",
      "[20.+0.j 15.+0.j 10.+0.j]\n",
      "(np.False_, array([20.+0.j, 15.+0.j, 10.+0.j]))  =>  (3+4j)  ,  [4.+0.j 3.+0.j 2.+0.j]\n",
      "mod_beta = 5.0\n",
      "[10.        +15.j          8.66025404+15.70796327j\n",
      " 15.         +0.j        ]\n",
      "(np.False_, array([10.        +15.j        ,  8.66025404+15.70796327j,\n",
      "       15.         +0.j        ]))  =>  (3+4j)  ,  [2.        +3.j         1.73205081+3.14159265j 3.        +0.j        ]\n",
      "mod_beta = 5.0\n",
      "[3.06161700e-16+5.j 5.00000000e+00+0.j 6.76676416e-01+0.j]\n",
      "(np.False_, array([3.06161700e-16+5.j, 5.00000000e+00+0.j, 6.76676416e-01+0.j]))  =>  (3+4j)  ,  [6.12323400e-17+1.j 1.00000000e+00+0.j 1.35335283e-01+0.j]\n",
      "mod_beta = 0.20787957635076193\n",
      "[0.20787958+0.j         0.        +0.20787958j 0.20787958+0.j        ]\n",
      "(np.False_, array([0.20787958+0.j        , 0.        +0.20787958j,\n",
      "       0.20787958+0.j        ]))  =>  (0.20787957635076193+0j)  ,  [1.+0.j 0.+1.j 1.+0.j]\n",
      "mod_beta = 0.20787957635076193\n",
      "[0.83151831+0.j 0.62363873+0.j 0.41575915+0.j]\n",
      "(np.False_, array([0.83151831+0.j, 0.62363873+0.j, 0.41575915+0.j]))  =>  (0.20787957635076193+0j)  ,  [4.+0.j 3.+0.j 2.+0.j]\n",
      "mod_beta = 0.20787957635076193\n",
      "[0.41575915+0.62363873j 0.36005799+0.65307295j 0.62363873+0.j        ]\n",
      "(np.False_, array([0.41575915+0.62363873j, 0.36005799+0.65307295j,\n",
      "       0.62363873+0.j        ]))  =>  (0.20787957635076193+0j)  ,  [2.        +3.j         1.73205081+3.14159265j 3.        +0.j        ]\n",
      "mod_beta = 0.20787957635076193\n",
      "[1.27289529e-17+0.20787958j 2.07879576e-01+0.j\n",
      " 2.81334413e-02+0.j        ]\n",
      "(np.False_, array([1.27289529e-17+0.20787958j, 2.07879576e-01+0.j        ,\n",
      "       2.81334413e-02+0.j        ]))  =>  (0.20787957635076193+0j)  ,  [6.12323400e-17+1.j 1.00000000e+00+0.j 1.35335283e-01+0.j]\n",
      "mod_beta = 30978.986329445965\n",
      "[30978.98632945    +0.j             0.        +30978.98632945j\n",
      " 30978.98632945    +0.j        ]\n",
      "(np.False_, array([30978.98632945    +0.j        ,     0.        +30978.98632945j,\n",
      "       30978.98632945    +0.j        ]))  =>  (-12345+28413j)  ,  [1.+0.j 0.+1.j 1.+0.j]\n",
      "mod_beta = 30978.986329445965\n",
      "[123915.94531778+0.j  92936.95898834+0.j  61957.97265889+0.j]\n",
      "(np.False_, array([123915.94531778+0.j,  92936.95898834+0.j,  61957.97265889+0.j]))  =>  (-12345+28413j)  ,  [4.+0.j 3.+0.j 2.+0.j]\n",
      "mod_beta = 30978.986329445965\n",
      "[61957.97265889+92936.95898834j 53657.17828958+97323.35586825j\n",
      " 92936.95898834    +0.j        ]\n",
      "(np.False_, array([61957.97265889+92936.95898834j, 53657.17828958+97323.35586825j,\n",
      "       92936.95898834    +0.j        ]))  =>  (-12345+28413j)  ,  [2.        +3.j         1.73205081+3.14159265j 3.        +0.j        ]\n",
      "mod_beta = 30978.986329445965\n",
      "[1.89691582e-12+30978.98632945j 3.09789863e+04    +0.j\n",
      " 4.19254989e+03    +0.j        ]\n",
      "(np.False_, array([1.89691582e-12+30978.98632945j, 3.09789863e+04    +0.j        ,\n",
      "       4.19254989e+03    +0.j        ]))  =>  (-12345+28413j)  ,  [6.12323400e-17+1.j 1.00000000e+00+0.j 1.35335283e-01+0.j]\n"
     ]
    }
   ],
   "source": [
    "def verifica_soma(u, v):\n",
    "    \"\"\"\n",
    "    Verifica se o conjunto é fechado sob a operação de soma.\n",
    "\n",
    "    @param u: Um vetor de V\n",
    "            v: Um vetor de V\n",
    "    @return: bool: (True,  \"Vetores obedecem à soma.\") se os vetores forem fechados sob soma,\n",
    "                    (False, \"Vetores não obedecem à soma.\") caso contrário.\n",
    "    \"\"\"\n",
    "    s = soma(u,v)\n",
    "    return np.all(np.iscomplex(s)), s\n",
    "\n",
    "def verifica_produto(beta, u):\n",
    "  \"\"\"\n",
    "  Verifica se o conjunto é fechado sob a operação de produto.\n",
    "\n",
    "  @param beta: Um valor escalar complexo\n",
    "         u: Um vetor de V\n",
    "  @return: bool: (True,  \"Vetores obedecem ao produto.\") se os vetores forem fechados sob soma,\n",
    "                 (False, \"Vetores não obedecem ao produto.\") caso contrário.\n",
    "  \"\"\"\n",
    "  p = produto(beta, u)\n",
    "  return np.all(np.iscomplex(p)), p\n",
    "print('Testando fechamento da soma:')\n",
    "for i in range(len(v)):\n",
    "  for k in range(len(v) - i - 1):\n",
    "    print(verifica_soma(v[i], v[k+i+1]) , ' => ', v[i], ' , ', v[k+i+1])\n",
    "\n",
    "print('--------------------------------------')\n",
    "print('Testando fechamento do produto escalar:')\n",
    "for i in range(len(beta)):\n",
    "  for k in range(len(v)):\n",
    "    print(verifica_produto(beta[i], v[k]), ' => ', beta[i], ' , ', v[k])"
   ]
  },
  {
   "cell_type": "code",
   "execution_count": 10,
   "metadata": {},
   "outputs": [
    {
     "name": "stdout",
     "output_type": "stream",
     "text": [
      "Nulo = [0.+0.j 0.+0.j 0.+0.j]\n",
      "--------------------------------------\n",
      "Testando vetor nulo:\n",
      "[1.+0.j 0.+1.j 1.+0.j]\n",
      "True  =>  [1.+0.j 0.+1.j 1.+0.j]\n",
      "[4.+0.j 3.+0.j 2.+0.j]\n",
      "True  =>  [4.+0.j 3.+0.j 2.+0.j]\n",
      "[2.        +3.j         1.73205081+3.14159265j 3.        +0.j        ]\n",
      "True  =>  [2.        +3.j         1.73205081+3.14159265j 3.        +0.j        ]\n",
      "[6.12323400e-17+1.j 1.00000000e+00+0.j 1.35335283e-01+0.j]\n",
      "True  =>  [6.12323400e-17+1.j 1.00000000e+00+0.j 1.35335283e-01+0.j]\n"
     ]
    }
   ],
   "source": [
    "# proponha o vetor nulo\n",
    "nulo = np.zeros(3, dtype='complex128') # alterar?\n",
    "#print(f\"Nulo = {nulo}\")\n",
    "\n",
    "def verifica_nulo(v):\n",
    "  # Já implementado, não se preocupar\n",
    "  return np.all(soma(v, nulo) == v) # retorna True se todos valores de v+nulo forem iguais a v e False caso contrário\n",
    "\n",
    "print('--------------------------------------')\n",
    "print('Testando vetor nulo:')\n",
    "for i in range(len(v)):\n",
    "  print(verifica_nulo(v[i]), ' => ', v[i])"
   ]
  },
  {
   "cell_type": "code",
   "execution_count": 11,
   "metadata": {},
   "outputs": [
    {
     "name": "stdout",
     "output_type": "stream",
     "text": [
      "v = [1.+0.j 0.+1.j 1.+0.j] e -v = [-1.-0.j -0.-1.j -1.-0.j]\n",
      "--------------------------------------\n",
      "Testando vetor inverso:\n",
      "v = [1.+0.j 0.+1.j 1.+0.j] e -v = [-1.-0.j -0.-1.j -1.-0.j]\n",
      "[0.+0.j 0.+0.j 0.+0.j]\n",
      "True  =>  [1.+0.j 0.+1.j 1.+0.j]\n",
      "v = [4.+0.j 3.+0.j 2.+0.j] e -v = [-4.-0.j -3.-0.j -2.-0.j]\n",
      "[0.+0.j 0.+0.j 0.+0.j]\n",
      "True  =>  [4.+0.j 3.+0.j 2.+0.j]\n",
      "v = [2.        +3.j         1.73205081+3.14159265j 3.        +0.j        ] e -v = [-2.        -3.j         -1.73205081-3.14159265j -3.        -0.j        ]\n",
      "[0.+0.j 0.+0.j 0.+0.j]\n",
      "True  =>  [2.        +3.j         1.73205081+3.14159265j 3.        +0.j        ]\n",
      "v = [6.12323400e-17+1.j 1.00000000e+00+0.j 1.35335283e-01+0.j] e -v = [-6.12323400e-17-1.j -1.00000000e+00-0.j -1.35335283e-01-0.j]\n",
      "[0.+0.j 0.+0.j 0.+0.j]\n",
      "True  =>  [6.12323400e-17+1.j 1.00000000e+00+0.j 1.35335283e-01+0.j]\n"
     ]
    }
   ],
   "source": [
    "# proponha o vetor inverso\n",
    "def inverso(v):\n",
    "  #print(f\"v = {v} e -v = {-v}\")\n",
    "  return -v\n",
    "#inverso(v[0])\n",
    "\n",
    "def verifica_inverso(v):\n",
    "  # Já implementado, não se preocupar\n",
    "  return np.all(soma(v, inverso(v)) == nulo) # retorna True se todos valores de v+inverso(v) forem iguais a nulo e False caso contrário\n",
    "\n",
    "print('--------------------------------------')\n",
    "print('Testando vetor inverso:')\n",
    "for i in range(len(v)):\n",
    "  print(verifica_inverso(v[i]), ' => ', v[i])"
   ]
  },
  {
   "cell_type": "code",
   "execution_count": null,
   "metadata": {},
   "outputs": [],
   "source": []
  }
 ],
 "metadata": {
  "kernelspec": {
   "display_name": "env",
   "language": "python",
   "name": "python3"
  },
  "language_info": {
   "codemirror_mode": {
    "name": "ipython",
    "version": 3
   },
   "file_extension": ".py",
   "mimetype": "text/x-python",
   "name": "python",
   "nbconvert_exporter": "python",
   "pygments_lexer": "ipython3",
   "version": "3.10.12"
  }
 },
 "nbformat": 4,
 "nbformat_minor": 2
}
