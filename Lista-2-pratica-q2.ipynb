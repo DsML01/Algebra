{
 "cells": [
  {
   "cell_type": "markdown",
   "metadata": {},
   "source": [
    "<center><h1></h1></center>\n",
    "\n",
    "<center><h1>Questão 2</h1></center>\n",
    "\n",
    "---\n",
    "Implemente uma função que determine se um vetor pode ser escrito como uma combinação linear de um conjunto de vetores.\n",
    "\n",
    "---\n",
    "\n",
    "Um vetor $v$ é dito ser uma combinação linear de um conjunto de vetores $\\{u_1, u_2, u_3, ⋯ , u_n\\}$ se existem escalares $c_1, c_2, c_3, ⋯ , c_n$ tais que:\n",
    "\n",
    "$$v = c_1*u_1 + c_2*u_2 + c_3*u_3 + … + c_n*u_n$$\n",
    "\n",
    "\n",
    "\n",
    "*   $v$ é o vetor que queremos expressar como uma combinação linear.\n",
    "*   $u_1, u_2, ..., u_n$ são os vetores do conjunto.\n",
    "*   $c_1, c_2, ..., c_n$ são so escalares, coeficientes, que determinam a combinação linear.\n",
    "---\n",
    "\n",
    "<h1>Não deve ser ultilizado np.linalg.solve()"
   ]
  },
  {
   "cell_type": "code",
   "execution_count": null,
   "metadata": {
    "vscode": {
     "languageId": "plaintext"
    }
   },
   "outputs": [],
   "source": []
  }
 ],
 "metadata": {
  "language_info": {
   "name": "python"
  }
 },
 "nbformat": 4,
 "nbformat_minor": 2
}
