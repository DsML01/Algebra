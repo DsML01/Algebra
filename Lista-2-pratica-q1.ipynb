{
 "cells": [
  {
   "cell_type": "code",
   "execution_count": 2,
   "metadata": {},
   "outputs": [
    {
     "name": "stdout",
     "output_type": "stream",
     "text": [
      "Hello world\n"
     ]
    }
   ],
   "source": [
    "#Primeira vez utilizando um notebook\n",
    "print(\"Hello world\")"
   ]
  },
  {
   "cell_type": "markdown",
   "metadata": {},
   "source": [
    "O objetivo da Questão é verificar se o conjunto é um espaço vetorial sobre  C  através de inspeção de exemplos e checagem de situações de quebra de axioma.\n",
    "-Implemente as funções de soma e produto -> Feito\n",
    "-Implemente as funções de verificação de fechamento -> Feito\n",
    "-Proponha um vetor nulo do espaço vetorial -> Feito\n",
    "-Proponha um vetor inverso -> Feito\n",
    "-Implemente as funções de checagem de axiomas de soma -> Feito\n",
    "-Implemente as funções de checagem de axiomas de produto -> Feito"
   ]
  },
  {
   "cell_type": "code",
   "execution_count": 24,
   "metadata": {},
   "outputs": [],
   "source": [
    "import numpy as np\n",
    "\n",
    "# Definição de vetores\n",
    "v = []\n",
    "v.append(np.array([1, 1j, 1], dtype='complex128'))\n",
    "v.append(np.array([4, 3, 2], dtype='complex128'))\n",
    "v.append(np.array([2+3j, complex(np.sqrt(3), np.pi), 3], dtype='complex128'))\n",
    "v.append(np.array([complex(np.cos(np.pi/2), np.sin(np.pi/2)), 1, complex(np.exp(-2), 0)], dtype='complex128'))\n",
    "\n",
    "beta = []\n",
    "beta.append(3+4j)\n",
    "beta.append(np.exp(-np.pi/2) + 0j)\n",
    "beta.append(-12345+28413j)"
   ]
  },
  {
   "cell_type": "code",
   "execution_count": 27,
   "metadata": {},
   "outputs": [],
   "source": [
    "#Função feita\n",
    "# A Função deve receber como parâmetro dois arrays do tipo complexo de numpy\n",
    "def soma(u, v):\n",
    "    w = u + v\n",
    "    #print(f\"Soma = {w}\")\n",
    "    return w"
   ]
  },
  {
   "cell_type": "code",
   "execution_count": 5,
   "metadata": {},
   "outputs": [],
   "source": [
    "def produto(beta, u):\n",
    "  mod_beta = np.abs(beta)\n",
    "  #print(f\"mod_beta = {mod_beta}\")\n",
    "\n",
    "  return mod_beta * u"
   ]
  },
  {
   "cell_type": "code",
   "execution_count": 37,
   "metadata": {},
   "outputs": [
    {
     "name": "stdout",
     "output_type": "stream",
     "text": [
      "Testando fechamento da soma:\n",
      "True  =>  [1.+0.j 0.+1.j 1.+0.j]  ,  [4.+0.j 3.+0.j 2.+0.j]\n",
      "True  =>  [1.+0.j 0.+1.j 1.+0.j]  ,  [2.        +3.j         1.73205081+3.14159265j 3.        +0.j        ]\n",
      "True  =>  [1.+0.j 0.+1.j 1.+0.j]  ,  [6.12323400e-17+1.j 1.00000000e+00+0.j 1.35335283e-01+0.j]\n",
      "True  =>  [4.+0.j 3.+0.j 2.+0.j]  ,  [2.        +3.j         1.73205081+3.14159265j 3.        +0.j        ]\n",
      "True  =>  [4.+0.j 3.+0.j 2.+0.j]  ,  [6.12323400e-17+1.j 1.00000000e+00+0.j 1.35335283e-01+0.j]\n",
      "True  =>  [2.        +3.j         1.73205081+3.14159265j 3.        +0.j        ]  ,  [6.12323400e-17+1.j 1.00000000e+00+0.j 1.35335283e-01+0.j]\n",
      "--------------------------------------\n",
      "Testando fechamento do produto escalar:\n",
      "True  =>  (3+4j)  ,  [1.+0.j 0.+1.j 1.+0.j]\n",
      "True  =>  (3+4j)  ,  [4.+0.j 3.+0.j 2.+0.j]\n",
      "True  =>  (3+4j)  ,  [2.        +3.j         1.73205081+3.14159265j 3.        +0.j        ]\n",
      "True  =>  (3+4j)  ,  [6.12323400e-17+1.j 1.00000000e+00+0.j 1.35335283e-01+0.j]\n",
      "True  =>  (0.20787957635076193+0j)  ,  [1.+0.j 0.+1.j 1.+0.j]\n",
      "True  =>  (0.20787957635076193+0j)  ,  [4.+0.j 3.+0.j 2.+0.j]\n",
      "True  =>  (0.20787957635076193+0j)  ,  [2.        +3.j         1.73205081+3.14159265j 3.        +0.j        ]\n",
      "True  =>  (0.20787957635076193+0j)  ,  [6.12323400e-17+1.j 1.00000000e+00+0.j 1.35335283e-01+0.j]\n",
      "True  =>  (-12345+28413j)  ,  [1.+0.j 0.+1.j 1.+0.j]\n",
      "True  =>  (-12345+28413j)  ,  [4.+0.j 3.+0.j 2.+0.j]\n",
      "True  =>  (-12345+28413j)  ,  [2.        +3.j         1.73205081+3.14159265j 3.        +0.j        ]\n",
      "True  =>  (-12345+28413j)  ,  [6.12323400e-17+1.j 1.00000000e+00+0.j 1.35335283e-01+0.j]\n"
     ]
    }
   ],
   "source": [
    "def verifica_soma(u, v):\n",
    "    \"\"\"\n",
    "    Verifica se o conjunto é fechado sob a operação de soma.\n",
    "\n",
    "    @param u: Um vetor de V\n",
    "            v: Um vetor de V\n",
    "    @return: bool: (True,  \"Vetores obedecem à soma.\") se os vetores forem fechados sob soma,\n",
    "                    (False, \"Vetores não obedecem à soma.\") caso contrário.\n",
    "    \"\"\"\n",
    "    s = soma(u,v)\n",
    "    # print(f\"S = {s}\")\n",
    "    # print(f\"is_complex ? = {np.iscomplex(s)}\")\n",
    "    return any(isinstance(componente, (np.complexfloating, complex)) for componente in s)\n",
    "\n",
    "def verifica_produto(beta, u):\n",
    "  \"\"\"\n",
    "  Verifica se o conjunto é fechado sob a operação de produto.\n",
    "\n",
    "  @param beta: Um valor escalar complexo\n",
    "         u: Um vetor de V\n",
    "  @return: bool: (True,  \"Vetores obedecem ao produto.\") se os vetores forem fechados sob soma,\n",
    "                 (False, \"Vetores não obedecem ao produto.\") caso contrário.\n",
    "  \"\"\"\n",
    "  p = produto(beta, u)\n",
    "  #print(f\"np.all(is.complex(p)) = {p.all(np.iscomplex(p))}\")\n",
    "  return any(isinstance(componente, (np.complexfloating, complex)) for componente in p)\n",
    "\n",
    "print('Testando fechamento da soma:')\n",
    "for i in range(len(v)):\n",
    "  for k in range(len(v) - i - 1):\n",
    "    print(verifica_soma(v[i], v[k+i+1]) , ' => ', v[i], ' , ', v[k+i+1])\n",
    "\n",
    "print('--------------------------------------')\n",
    "print('Testando fechamento do produto escalar:')\n",
    "for i in range(len(beta)):\n",
    "  for k in range(len(v)):\n",
    "    print(verifica_produto(beta[i], v[k]), ' => ', beta[i], ' , ', v[k])"
   ]
  },
  {
   "cell_type": "code",
   "execution_count": 7,
   "metadata": {},
   "outputs": [
    {
     "name": "stdout",
     "output_type": "stream",
     "text": [
      "--------------------------------------\n",
      "Testando vetor nulo:\n",
      "True  =>  [1.+0.j 0.+1.j 1.+0.j]\n",
      "True  =>  [4.+0.j 3.+0.j 2.+0.j]\n",
      "True  =>  [2.        +3.j         1.73205081+3.14159265j 3.        +0.j        ]\n",
      "True  =>  [6.12323400e-17+1.j 1.00000000e+00+0.j 1.35335283e-01+0.j]\n"
     ]
    }
   ],
   "source": [
    "# proponha o vetor nulo\n",
    "nulo = np.zeros(3, dtype='complex128')\n",
    "#print(f\"Nulo = {nulo}\")\n",
    "\n",
    "def verifica_nulo(v):\n",
    "  # Já implementado, não se preocupar\n",
    "  return np.all(soma(v, nulo) == v) # retorna True se todos valores de v+nulo forem iguais a v e False caso contrário\n",
    "\n",
    "print('--------------------------------------')\n",
    "print('Testando vetor nulo:')\n",
    "for i in range(len(v)):\n",
    "  print(verifica_nulo(v[i]), ' => ', v[i])"
   ]
  },
  {
   "cell_type": "code",
   "execution_count": 8,
   "metadata": {},
   "outputs": [
    {
     "name": "stdout",
     "output_type": "stream",
     "text": [
      "--------------------------------------\n",
      "Testando vetor inverso:\n",
      "True  =>  [1.+0.j 0.+1.j 1.+0.j]\n",
      "True  =>  [4.+0.j 3.+0.j 2.+0.j]\n",
      "True  =>  [2.        +3.j         1.73205081+3.14159265j 3.        +0.j        ]\n",
      "True  =>  [6.12323400e-17+1.j 1.00000000e+00+0.j 1.35335283e-01+0.j]\n"
     ]
    }
   ],
   "source": [
    "# proponha o vetor inverso\n",
    "def inverso(v):\n",
    "  #print(f\"v = {v} e -v = {-v}\")\n",
    "  return -v\n",
    "#inverso(v[0])\n",
    "\n",
    "def verifica_inverso(v):\n",
    "  # Já implementado, não se preocupar\n",
    "  return np.all(soma(v, inverso(v)) == nulo) # retorna True se todos valores de v+inverso(v) forem iguais a nulo e False caso contrário\n",
    "\n",
    "print('--------------------------------------')\n",
    "print('Testando vetor inverso:')\n",
    "for i in range(len(v)):\n",
    "  print(verifica_inverso(v[i]), ' => ', v[i])"
   ]
  },
  {
   "cell_type": "code",
   "execution_count": 39,
   "metadata": {},
   "outputs": [
    {
     "name": "stdout",
     "output_type": "stream",
     "text": [
      "--------------------------------------\n",
      "Testando comutatividade:\n",
      "True  =>  [1.+0.j 0.+1.j 1.+0.j]  ,  [4.+0.j 3.+0.j 2.+0.j]\n",
      "True  =>  [1.+0.j 0.+1.j 1.+0.j]  ,  [2.        +3.j         1.73205081+3.14159265j 3.        +0.j        ]\n",
      "True  =>  [1.+0.j 0.+1.j 1.+0.j]  ,  [6.12323400e-17+1.j 1.00000000e+00+0.j 1.35335283e-01+0.j]\n",
      "True  =>  [4.+0.j 3.+0.j 2.+0.j]  ,  [2.        +3.j         1.73205081+3.14159265j 3.        +0.j        ]\n",
      "True  =>  [4.+0.j 3.+0.j 2.+0.j]  ,  [6.12323400e-17+1.j 1.00000000e+00+0.j 1.35335283e-01+0.j]\n",
      "True  =>  [2.        +3.j         1.73205081+3.14159265j 3.        +0.j        ]  ,  [6.12323400e-17+1.j 1.00000000e+00+0.j 1.35335283e-01+0.j]\n",
      "--------------------------------------\n",
      "Testando associatividade:\n",
      "True  =>  [1.+0.j 0.+1.j 1.+0.j]  ,  [4.+0.j 3.+0.j 2.+0.j]  ,  [2.        +3.j         1.73205081+3.14159265j 3.        +0.j        ]\n",
      "True  =>  [1.+0.j 0.+1.j 1.+0.j]  ,  [4.+0.j 3.+0.j 2.+0.j]  ,  [6.12323400e-17+1.j 1.00000000e+00+0.j 1.35335283e-01+0.j]\n",
      "True  =>  [1.+0.j 0.+1.j 1.+0.j]  ,  [2.        +3.j         1.73205081+3.14159265j 3.        +0.j        ]  ,  [6.12323400e-17+1.j 1.00000000e+00+0.j 1.35335283e-01+0.j]\n",
      "True  =>  [4.+0.j 3.+0.j 2.+0.j]  ,  [2.        +3.j         1.73205081+3.14159265j 3.        +0.j        ]  ,  [6.12323400e-17+1.j 1.00000000e+00+0.j 1.35335283e-01+0.j]\n"
     ]
    }
   ],
   "source": [
    "def verifica_comutatividade(u, v):\n",
    "  \"\"\"\n",
    "  Verifica se u + v = v + u\n",
    "\n",
    "  @param u: Um vetor de V\n",
    "         v: Um vetor de V\n",
    "  @return: bool: True se os vetores forem comutativos,\n",
    "                 False caso contrário.\n",
    "  \"\"\"\n",
    "  return np.allclose(soma(u, v), soma(v, u))\n",
    "\n",
    "print('--------------------------------------')\n",
    "print('Testando comutatividade:')\n",
    "for i in range(len(v)):\n",
    "  for k in range(len(v) - i - 1):\n",
    "    print(verifica_comutatividade(v[i], v[k+i+1]) , ' => ', v[i], ' , ', v[k+i+1])\n",
    "\n",
    "def verifica_associatividade(u, v, w):\n",
    "  \"\"\"\n",
    "  Verifica se u + (v + w) = (v + u) + w\n",
    "\n",
    "  @param v: Um vetor de V\n",
    "          u: Um vetor de V\n",
    "          w: Um vetor de V\n",
    "  @return: bool: True se os vetores seguirem a regra da associação,\n",
    "                  False caso contrário.\n",
    "  \"\"\"\n",
    "  return np.allclose(soma(u, soma(v, w)), soma(soma(v, u), w))\n",
    "\n",
    "print('--------------------------------------')\n",
    "print('Testando associatividade:')\n",
    "for i in range(len(v)):\n",
    "  for k in range(len(v) - i - 1):\n",
    "    for l in range(len(v) - i - k - 2):\n",
    "      print(verifica_associatividade(v[i], v[k+i+1], v[k+i+l+2]) , ' => ', v[i], ' , ', v[k+i+1], ' , ', v[k+i+l+2])"
   ]
  },
  {
   "cell_type": "code",
   "execution_count": 38,
   "metadata": {},
   "outputs": [
    {
     "name": "stdout",
     "output_type": "stream",
     "text": [
      "--------------------------------------\n",
      "Testando distributividade 1:\n",
      "True  =>  (3+4j)  ,  [1.+0.j 0.+1.j 1.+0.j]  ,  [4.+0.j 3.+0.j 2.+0.j]\n",
      "True  =>  (3+4j)  ,  [1.+0.j 0.+1.j 1.+0.j]  ,  [2.        +3.j         1.73205081+3.14159265j 3.        +0.j        ]\n",
      "True  =>  (3+4j)  ,  [1.+0.j 0.+1.j 1.+0.j]  ,  [6.12323400e-17+1.j 1.00000000e+00+0.j 1.35335283e-01+0.j]\n",
      "True  =>  (3+4j)  ,  [4.+0.j 3.+0.j 2.+0.j]  ,  [2.        +3.j         1.73205081+3.14159265j 3.        +0.j        ]\n",
      "True  =>  (3+4j)  ,  [4.+0.j 3.+0.j 2.+0.j]  ,  [6.12323400e-17+1.j 1.00000000e+00+0.j 1.35335283e-01+0.j]\n",
      "True  =>  (3+4j)  ,  [2.        +3.j         1.73205081+3.14159265j 3.        +0.j        ]  ,  [6.12323400e-17+1.j 1.00000000e+00+0.j 1.35335283e-01+0.j]\n",
      "True  =>  (0.20787957635076193+0j)  ,  [1.+0.j 0.+1.j 1.+0.j]  ,  [4.+0.j 3.+0.j 2.+0.j]\n",
      "True  =>  (0.20787957635076193+0j)  ,  [1.+0.j 0.+1.j 1.+0.j]  ,  [2.        +3.j         1.73205081+3.14159265j 3.        +0.j        ]\n",
      "True  =>  (0.20787957635076193+0j)  ,  [1.+0.j 0.+1.j 1.+0.j]  ,  [6.12323400e-17+1.j 1.00000000e+00+0.j 1.35335283e-01+0.j]\n",
      "True  =>  (0.20787957635076193+0j)  ,  [4.+0.j 3.+0.j 2.+0.j]  ,  [2.        +3.j         1.73205081+3.14159265j 3.        +0.j        ]\n",
      "True  =>  (0.20787957635076193+0j)  ,  [4.+0.j 3.+0.j 2.+0.j]  ,  [6.12323400e-17+1.j 1.00000000e+00+0.j 1.35335283e-01+0.j]\n",
      "True  =>  (0.20787957635076193+0j)  ,  [2.        +3.j         1.73205081+3.14159265j 3.        +0.j        ]  ,  [6.12323400e-17+1.j 1.00000000e+00+0.j 1.35335283e-01+0.j]\n",
      "True  =>  (-12345+28413j)  ,  [1.+0.j 0.+1.j 1.+0.j]  ,  [4.+0.j 3.+0.j 2.+0.j]\n",
      "True  =>  (-12345+28413j)  ,  [1.+0.j 0.+1.j 1.+0.j]  ,  [2.        +3.j         1.73205081+3.14159265j 3.        +0.j        ]\n",
      "True  =>  (-12345+28413j)  ,  [1.+0.j 0.+1.j 1.+0.j]  ,  [6.12323400e-17+1.j 1.00000000e+00+0.j 1.35335283e-01+0.j]\n",
      "True  =>  (-12345+28413j)  ,  [4.+0.j 3.+0.j 2.+0.j]  ,  [2.        +3.j         1.73205081+3.14159265j 3.        +0.j        ]\n",
      "True  =>  (-12345+28413j)  ,  [4.+0.j 3.+0.j 2.+0.j]  ,  [6.12323400e-17+1.j 1.00000000e+00+0.j 1.35335283e-01+0.j]\n",
      "True  =>  (-12345+28413j)  ,  [2.        +3.j         1.73205081+3.14159265j 3.        +0.j        ]  ,  [6.12323400e-17+1.j 1.00000000e+00+0.j 1.35335283e-01+0.j]\n",
      "--------------------------------------\n",
      "Testando distributividade 2:\n",
      "False  =>  (3+4j)  ,  (0.20787957635076193+0j)  ,  [1.+0.j 0.+1.j 1.+0.j]\n",
      "False  =>  (3+4j)  ,  (0.20787957635076193+0j)  ,  [4.+0.j 3.+0.j 2.+0.j]\n",
      "False  =>  (3+4j)  ,  (0.20787957635076193+0j)  ,  [2.        +3.j         1.73205081+3.14159265j 3.        +0.j        ]\n",
      "False  =>  (3+4j)  ,  (0.20787957635076193+0j)  ,  [6.12323400e-17+1.j 1.00000000e+00+0.j 1.35335283e-01+0.j]\n",
      "False  =>  (3+4j)  ,  (-12345+28413j)  ,  [1.+0.j 0.+1.j 1.+0.j]\n",
      "False  =>  (3+4j)  ,  (-12345+28413j)  ,  [4.+0.j 3.+0.j 2.+0.j]\n",
      "False  =>  (3+4j)  ,  (-12345+28413j)  ,  [2.        +3.j         1.73205081+3.14159265j 3.        +0.j        ]\n",
      "False  =>  (3+4j)  ,  (-12345+28413j)  ,  [6.12323400e-17+1.j 1.00000000e+00+0.j 1.35335283e-01+0.j]\n",
      "True  =>  (0.20787957635076193+0j)  ,  (-12345+28413j)  ,  [1.+0.j 0.+1.j 1.+0.j]\n",
      "True  =>  (0.20787957635076193+0j)  ,  (-12345+28413j)  ,  [4.+0.j 3.+0.j 2.+0.j]\n",
      "True  =>  (0.20787957635076193+0j)  ,  (-12345+28413j)  ,  [2.        +3.j         1.73205081+3.14159265j 3.        +0.j        ]\n",
      "True  =>  (0.20787957635076193+0j)  ,  (-12345+28413j)  ,  [6.12323400e-17+1.j 1.00000000e+00+0.j 1.35335283e-01+0.j]\n",
      "--------------------------------------\n",
      "Testando distributividade 3:\n",
      "True  =>  (3+4j)  ,  (0.20787957635076193+0j)  ,  [1.+0.j 0.+1.j 1.+0.j]\n",
      "True  =>  (3+4j)  ,  (0.20787957635076193+0j)  ,  [4.+0.j 3.+0.j 2.+0.j]\n",
      "True  =>  (3+4j)  ,  (0.20787957635076193+0j)  ,  [2.        +3.j         1.73205081+3.14159265j 3.        +0.j        ]\n",
      "True  =>  (3+4j)  ,  (0.20787957635076193+0j)  ,  [6.12323400e-17+1.j 1.00000000e+00+0.j 1.35335283e-01+0.j]\n",
      "True  =>  (3+4j)  ,  (-12345+28413j)  ,  [1.+0.j 0.+1.j 1.+0.j]\n",
      "True  =>  (3+4j)  ,  (-12345+28413j)  ,  [4.+0.j 3.+0.j 2.+0.j]\n",
      "True  =>  (3+4j)  ,  (-12345+28413j)  ,  [2.        +3.j         1.73205081+3.14159265j 3.        +0.j        ]\n",
      "True  =>  (3+4j)  ,  (-12345+28413j)  ,  [6.12323400e-17+1.j 1.00000000e+00+0.j 1.35335283e-01+0.j]\n",
      "True  =>  (0.20787957635076193+0j)  ,  (-12345+28413j)  ,  [1.+0.j 0.+1.j 1.+0.j]\n",
      "True  =>  (0.20787957635076193+0j)  ,  (-12345+28413j)  ,  [4.+0.j 3.+0.j 2.+0.j]\n",
      "True  =>  (0.20787957635076193+0j)  ,  (-12345+28413j)  ,  [2.        +3.j         1.73205081+3.14159265j 3.        +0.j        ]\n",
      "True  =>  (0.20787957635076193+0j)  ,  (-12345+28413j)  ,  [6.12323400e-17+1.j 1.00000000e+00+0.j 1.35335283e-01+0.j]\n",
      "--------------------------------------\n",
      "Testando o axioma do escalar unitário:\n",
      "True  =>  [1.+0.j 0.+1.j 1.+0.j]\n",
      "True  =>  [4.+0.j 3.+0.j 2.+0.j]\n",
      "True  =>  [2.        +3.j         1.73205081+3.14159265j 3.        +0.j        ]\n",
      "True  =>  [6.12323400e-17+1.j 1.00000000e+00+0.j 1.35335283e-01+0.j]\n"
     ]
    }
   ],
   "source": [
    "def verifica_distributividade_1(beta, u, v):\n",
    "    \"\"\"\n",
    "    Verifica se beta * (u + v) = beta * u + beta * v\n",
    "    @param beta: Um valor escalar complexo\n",
    "    u: Um vetor de V\n",
    "    v: Um vetor de V\n",
    "    @return: bool: True se os vetores seguirem a regra da distributividade,\n",
    "    False caso contrário.\n",
    "    \"\"\"\n",
    "    return np.allclose(produto(beta, soma(u, v)), soma(produto(beta, u),produto(beta, v)))\n",
    "\n",
    "print('--------------------------------------')\n",
    "print('Testando distributividade 1:')\n",
    "for i in range(len(beta)):\n",
    "  for k in range(len(v)):\n",
    "    for l in range(len(v) - k - 1):\n",
    "      print(verifica_distributividade_1(beta[i], v[k], v[k+l+1]), ' => ', beta[i], ' , ', v[k], ' , ', v[k+l+1])\n",
    "\n",
    "def verifica_distributividade_2(beta, gamma, u):\n",
    "    \"\"\"\n",
    "    Verifica se (beta + gamma) * u = beta * u + gamma * u\n",
    "\n",
    "    @param beta: Um valor escalar complexo\n",
    "            gamma: Um valor escalar complexo\n",
    "            u: Um vetor de V\n",
    "    @return: bool: True se os vetores seguirem a regra da distributividade,\n",
    "                    False caso contrário.\n",
    "    \"\"\"\n",
    "    return np.allclose(produto(soma(beta, gamma), u), soma(produto(beta, u), produto(gamma, u)))\n",
    "\n",
    "print('--------------------------------------')\n",
    "print('Testando distributividade 2:')\n",
    "for i in range(len(beta)):\n",
    "  for k in range(len(beta) - i - 1):\n",
    "    for l in range(len(v)):\n",
    "      print(verifica_distributividade_2(beta[i], beta[i+k+1], v[l]), ' => ', beta[i], ' , ', beta[i+k+1], ' , ', v[l])\n",
    "\n",
    "\n",
    "def verifica_distributividade_3(beta, gamma, u):\n",
    "    \"\"\"\n",
    "    Verifica se beta * (gamma * u) = (beta * gamma) * u\n",
    "\n",
    "    @param beta: Um valor escalar complexo\n",
    "            gamma: Um valor escalar complexo\n",
    "            u: Um vetor de V\n",
    "    @return: bool: True se os vetores seguirem a regra da distributividade,\n",
    "                    False caso contrário.\n",
    "    \"\"\"\n",
    "    return np.allclose(produto(beta, produto(gamma, u)), produto(produto(beta, gamma), u))\n",
    "\n",
    "print('--------------------------------------')\n",
    "print('Testando distributividade 3:')\n",
    "for i in range(len(beta)):\n",
    "  for k in range(len(beta) - i - 1):\n",
    "    for l in range(len(v)):\n",
    "      print(verifica_distributividade_3(beta[i], beta[i+k+1], v[l]), ' => ', beta[i], ' , ', beta[i+k+1], ' , ', v[l])\n",
    "\n",
    "def verifica_escalar_unitario(u):\n",
    "  \"\"\"\n",
    "  Verifica se 1 * u = u\n",
    "\n",
    "  @param : Um vetor de V\n",
    "  @return: bool: True se os vetores seguirem a regra da distributividade,\n",
    "                 False caso contrário.\n",
    "  \"\"\" \n",
    "  return np.array_equal(produto(1, u), u)\n",
    "\n",
    "print('--------------------------------------')\n",
    "print('Testando o axioma do escalar unitário:')\n",
    "for i in range(len(v)):\n",
    "      print(verifica_escalar_unitario(v[i]), ' => ', v[i])"
   ]
  }
 ],
 "metadata": {
  "kernelspec": {
   "display_name": "env",
   "language": "python",
   "name": "python3"
  },
  "language_info": {
   "codemirror_mode": {
    "name": "ipython",
    "version": 3
   },
   "file_extension": ".py",
   "mimetype": "text/x-python",
   "name": "python",
   "nbconvert_exporter": "python",
   "pygments_lexer": "ipython3",
   "version": "3.10.12"
  }
 },
 "nbformat": 4,
 "nbformat_minor": 2
}
